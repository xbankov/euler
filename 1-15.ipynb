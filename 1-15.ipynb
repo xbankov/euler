{
 "cells": [
  {
   "cell_type": "code",
   "execution_count": 1,
   "metadata": {},
   "outputs": [
    {
     "data": {
      "text/plain": [
       "233168"
      ]
     },
     "execution_count": 1,
     "metadata": {},
     "output_type": "execute_result"
    }
   ],
   "source": [
    "#1\n",
    "sum([i for i in range(1000) if i %3 ==0 or i % 5 == 0])"
   ]
  },
  {
   "cell_type": "code",
   "execution_count": 33,
   "metadata": {},
   "outputs": [],
   "source": [
    "#2\n",
    "def fibonacci_under_(n):\n",
    "    second_last, last = 1, 2\n",
    "    sigma = 2\n",
    "    while last < n:\n",
    "        new = last + second_last\n",
    "        second_last = last\n",
    "        last = new\n",
    "        if new % 2 == 0:\n",
    "            sigma += new\n",
    "    return sigma\n"
   ]
  },
  {
   "cell_type": "code",
   "execution_count": 34,
   "metadata": {},
   "outputs": [
    {
     "data": {
      "text/plain": [
       "4613732"
      ]
     },
     "execution_count": 34,
     "metadata": {},
     "output_type": "execute_result"
    }
   ],
   "source": [
    "fibonacci_under_(4_000_000)"
   ]
  },
  {
   "cell_type": "code",
   "execution_count": 3,
   "metadata": {},
   "outputs": [],
   "source": [
    "#3\n",
    "def isprime(n):\n",
    "    \"\"\"Returns True if n is prime.\"\"\"\n",
    "    if n == 2:\n",
    "        return True\n",
    "    if n == 3:\n",
    "        return True\n",
    "    if n % 2 == 0:\n",
    "        return False\n",
    "    if n % 3 == 0:\n",
    "        return False\n",
    "    \n",
    "    i = 5\n",
    "    w = 2\n",
    "    while i * i <= n:\n",
    "        if n % i == 0:\n",
    "            return False\n",
    "        i += w\n",
    "        w = 6 - w\n",
    "    return True"
   ]
  },
  {
   "cell_type": "code",
   "execution_count": 4,
   "metadata": {},
   "outputs": [
    {
     "name": "stdout",
     "output_type": "stream",
     "text": [
      "8462696833\n",
      "10086647\n",
      "6857\n"
     ]
    }
   ],
   "source": [
    "from math import sqrt\n",
    "number = 600_851_475_143\n",
    "\n",
    "\n",
    "for i in range(1, int(sqrt(number))):\n",
    "    if number % i == 0 and i not in [1, number]:\n",
    "        number = number // i\n",
    "        print(number)"
   ]
  },
  {
   "cell_type": "code",
   "execution_count": 5,
   "metadata": {},
   "outputs": [],
   "source": [
    "#4\n",
    "def is_palindrome(string):\n",
    "    if not string:\n",
    "        return True\n",
    "    if string[0] != string[-1]:\n",
    "        return False\n",
    "    return is_palindrome(string[1:-1])"
   ]
  },
  {
   "cell_type": "code",
   "execution_count": 6,
   "metadata": {},
   "outputs": [
    {
     "data": {
      "text/plain": [
       "906609"
      ]
     },
     "execution_count": 6,
     "metadata": {},
     "output_type": "execute_result"
    }
   ],
   "source": [
    "products = []\n",
    "for i in range(900,1000):\n",
    "    for j in range(900,1000):\n",
    "        products.append(i*j)\n",
    "products\n",
    "\n",
    "\n",
    "max([product for product in products if is_palindrome(str(product))])"
   ]
  },
  {
   "cell_type": "code",
   "execution_count": 7,
   "metadata": {},
   "outputs": [
    {
     "data": {
      "text/plain": [
       "232792560"
      ]
     },
     "execution_count": 7,
     "metadata": {},
     "output_type": "execute_result"
    }
   ],
   "source": [
    "#5\n",
    "from math import gcd\n",
    "def lcm(a, b):\n",
    "    return (a*b) // gcd(a,b)\n",
    "\n",
    "temp_lcm = 1\n",
    "for i in range(1, 20):\n",
    "    temp_lcm = lcm(i, temp_lcm)\n",
    "\n",
    "temp_lcm\n",
    "        \n"
   ]
  },
  {
   "cell_type": "code",
   "execution_count": 8,
   "metadata": {},
   "outputs": [],
   "source": [
    "#6\n",
    "def sum_sq_diff(n):\n",
    "    sum_of_squares = sum([i**2 for i in range(n + 1)]) \n",
    "    square_of_sum = sum([i for i in range(n + 1)]) ** 2\n",
    "    return square_of_sum - sum_of_squares"
   ]
  },
  {
   "cell_type": "code",
   "execution_count": 9,
   "metadata": {},
   "outputs": [
    {
     "data": {
      "text/plain": [
       "25164150"
      ]
     },
     "execution_count": 9,
     "metadata": {},
     "output_type": "execute_result"
    }
   ],
   "source": [
    "sum_sq_diff(10)\n",
    "sum_sq_diff(100)"
   ]
  },
  {
   "cell_type": "code",
   "execution_count": 10,
   "metadata": {},
   "outputs": [],
   "source": [
    "#7\n",
    "def nth_prime(n):\n",
    "    primes = 0\n",
    "    number = 0\n",
    "    while primes != n+1:\n",
    "        number += 1\n",
    "        if isprime(number):\n",
    "            primes +=1\n",
    "        \n",
    "    return number\n",
    "        "
   ]
  },
  {
   "cell_type": "code",
   "execution_count": 11,
   "metadata": {},
   "outputs": [
    {
     "data": {
      "text/plain": [
       "104743"
      ]
     },
     "execution_count": 11,
     "metadata": {},
     "output_type": "execute_result"
    }
   ],
   "source": [
    "nth_prime(10001)"
   ]
  },
  {
   "cell_type": "code",
   "execution_count": 12,
   "metadata": {},
   "outputs": [],
   "source": [
    "number = 7316717653133062491922511967442657474235534919493496983520312774506326239578318016984801869478851843858615607891129494954595017379583319528532088055111254069874715852386305071569329096329522744304355766896648950445244523161731856403098711121722383113622298934233803081353362766142828064444866452387493035890729629049156044077239071381051585930796086670172427121883998797908792274921901699720888093776657273330010533678812202354218097512545405947522435258490771167055601360483958644670632441572215539753697817977846174064955149290862569321978468622482839722413756570560574902614079729686524145351004748216637048440319989000889524345065854122758866688116427171479924442928230863465674813919123162824586178664583591245665294765456828489128831426076900422421902267105562632111110937054421750694165896040807198403850962455444362981230987879927244284909188845801561660979191338754992005240636899125607176060588611646710940507754100225698315520005593572972571636269561882670428252483600823257530420752963450"
   ]
  },
  {
   "cell_type": "code",
   "execution_count": 13,
   "metadata": {},
   "outputs": [],
   "source": [
    "#8\n",
    "def product_string(s_number):\n",
    "    product = 1\n",
    "    for number in s_number:\n",
    "        product *= int(number)\n",
    "    return product"
   ]
  },
  {
   "cell_type": "code",
   "execution_count": 14,
   "metadata": {},
   "outputs": [],
   "source": [
    "def largest_product_in_series(k, series):\n",
    "    s_number = str(series)\n",
    "    n = len(s_number)\n",
    "    return max([product_string(s_number[i: i + k]) for i in range(n - k + 1)])"
   ]
  },
  {
   "cell_type": "code",
   "execution_count": 15,
   "metadata": {},
   "outputs": [
    {
     "data": {
      "text/plain": [
       "23514624000"
      ]
     },
     "execution_count": 15,
     "metadata": {},
     "output_type": "execute_result"
    }
   ],
   "source": [
    "largest_product_in_series(13, number)"
   ]
  },
  {
   "cell_type": "code",
   "execution_count": 16,
   "metadata": {},
   "outputs": [],
   "source": [
    "#9\n",
    "def pythagoreanTriplets(limits) : \n",
    "    triplets = []\n",
    "    c, m = 0, 2\n",
    "  \n",
    "    # Limiting c would limit  \n",
    "    # all a, b and c \n",
    "    while c < limits : \n",
    "          \n",
    "        # Now loop on n from 1 to m-1 \n",
    "        for n in range(1, m) : \n",
    "            a = m * m - n * n \n",
    "            b = 2 * m * n \n",
    "            c = m * m + n * n \n",
    "  \n",
    "            # if c is greater than \n",
    "            # limit then break it \n",
    "            if c > limits : \n",
    "                break\n",
    "  \n",
    "            triplets.append([a, b, c])\n",
    "  \n",
    "        m = m + 1\n",
    "    return triplets\n",
    "\n",
    "def product_list(numbers):\n",
    "    return []"
   ]
  },
  {
   "cell_type": "code",
   "execution_count": 17,
   "metadata": {},
   "outputs": [],
   "source": [
    "from numpy import prod\n",
    "\n",
    "def product_of_pyth_triplet_that_is_equal_to(number):\n",
    "    triplets = pythagoreanTriplets(number)\n",
    "    for triplet in triplets:\n",
    "        if sum(triplet) == number:\n",
    "            print(triplet)\n",
    "            return prod(triplet)\n",
    "            \n",
    "        "
   ]
  },
  {
   "cell_type": "code",
   "execution_count": 18,
   "metadata": {},
   "outputs": [
    {
     "name": "stdout",
     "output_type": "stream",
     "text": [
      "[375, 200, 425]\n"
     ]
    },
    {
     "data": {
      "text/plain": [
       "31875000"
      ]
     },
     "execution_count": 18,
     "metadata": {},
     "output_type": "execute_result"
    }
   ],
   "source": [
    "product_of_pyth_triplet_that_is_equal_to(1000)"
   ]
  },
  {
   "cell_type": "code",
   "execution_count": 19,
   "metadata": {},
   "outputs": [],
   "source": [
    "#10\n",
    "def isprime_without_one(n):\n",
    "    \"\"\"Returns True if n is prime.\"\"\"\n",
    "    if n == 1:\n",
    "        return False\n",
    "    if n == 2:\n",
    "        return True\n",
    "    if n == 3:\n",
    "        return True\n",
    "    if n % 2 == 0:\n",
    "        return False\n",
    "    if n % 3 == 0:\n",
    "        return False\n",
    "    \n",
    "    i = 5\n",
    "    w = 2\n",
    "    while i * i <= n:\n",
    "        if n % i == 0:\n",
    "            return False\n",
    "        i += w\n",
    "        w = 6 - w\n",
    "    return True\n",
    "\n",
    "def sum_of_primes_under(n):\n",
    "    suma = 0\n",
    "    for i in range(n):\n",
    "        if isprime_without_one(i):\n",
    "            suma += i\n",
    "    return suma"
   ]
  },
  {
   "cell_type": "code",
   "execution_count": 20,
   "metadata": {},
   "outputs": [
    {
     "data": {
      "text/plain": [
       "142913828922"
      ]
     },
     "execution_count": 20,
     "metadata": {},
     "output_type": "execute_result"
    }
   ],
   "source": [
    "sum_of_primes_under(2_000_000)"
   ]
  },
  {
   "cell_type": "code",
   "execution_count": 21,
   "metadata": {},
   "outputs": [],
   "source": [
    "#11\n",
    "grid = \"\"\"08 02 22 97 38 15 00 40 00 75 04 05 07 78 52 12 50 77 91 08\n",
    "49 49 99 40 17 81 18 57 60 87 17 40 98 43 69 48 04 56 62 00\n",
    "81 49 31 73 55 79 14 29 93 71 40 67 53 88 30 03 49 13 36 65\n",
    "52 70 95 23 04 60 11 42 69 24 68 56 01 32 56 71 37 02 36 91\n",
    "22 31 16 71 51 67 63 89 41 92 36 54 22 40 40 28 66 33 13 80\n",
    "24 47 32 60 99 03 45 02 44 75 33 53 78 36 84 20 35 17 12 50\n",
    "32 98 81 28 64 23 67 10 26 38 40 67 59 54 70 66 18 38 64 70\n",
    "67 26 20 68 02 62 12 20 95 63 94 39 63 08 40 91 66 49 94 21\n",
    "24 55 58 05 66 73 99 26 97 17 78 78 96 83 14 88 34 89 63 72\n",
    "21 36 23 09 75 00 76 44 20 45 35 14 00 61 33 97 34 31 33 95\n",
    "78 17 53 28 22 75 31 67 15 94 03 80 04 62 16 14 09 53 56 92\n",
    "16 39 05 42 96 35 31 47 55 58 88 24 00 17 54 24 36 29 85 57\n",
    "86 56 00 48 35 71 89 07 05 44 44 37 44 60 21 58 51 54 17 58\n",
    "19 80 81 68 05 94 47 69 28 73 92 13 86 52 17 77 04 89 55 40\n",
    "04 52 08 83 97 35 99 16 07 97 57 32 16 26 26 79 33 27 98 66\n",
    "88 36 68 87 57 62 20 72 03 46 33 67 46 55 12 32 63 93 53 69\n",
    "04 42 16 73 38 25 39 11 24 94 72 18 08 46 29 32 40 62 76 36\n",
    "20 69 36 41 72 30 23 88 34 62 99 69 82 67 59 85 74 04 36 16\n",
    "20 73 35 29 78 31 90 01 74 31 49 71 48 86 81 16 23 57 05 54\n",
    "01 70 54 71 83 51 54 69 16 92 33 48 61 43 52 01 89 19 67 48\"\"\"\n",
    "\n",
    "grid\n",
    "\n",
    "def largest_product_in_grid(grid):\n",
    "    pass"
   ]
  },
  {
   "cell_type": "code",
   "execution_count": 22,
   "metadata": {},
   "outputs": [],
   "source": [
    "grid_ = [row for row in grid.split('\\n')]\n",
    "grid_ = [row.split(' ') for row in grid_]\n",
    "grid_numbers = [[int(number) for number in row ] for row in grid_]"
   ]
  },
  {
   "cell_type": "code",
   "execution_count": 23,
   "metadata": {},
   "outputs": [],
   "source": [
    "from numpy import prod\n",
    "def horizontal_product(grid, i, j, k):\n",
    "    return prod([grid[i][j + o] for o in range(k)])\n",
    "\n",
    "def largest_horizontal_product(grid, n, k):\n",
    "    horizontal_products = [horizontal_product(grid, i , j, k) for j in range(n - k + 1) for i in range(n)]\n",
    "    return max(horizontal_products)\n",
    "\n",
    "\n",
    "def vertical_product(grid, i, j, k):\n",
    "    return prod([grid[i + o][j] for o in range(k)])\n",
    "\n",
    "def largest_vertical_product(grid, n, k):\n",
    "    vertical_products = [vertical_product(grid, i , j, k) for j in range(n) for i in range(n - k + 1)]\n",
    "    return max(vertical_products)\n",
    "\n",
    "\n",
    "def diagonal_right_down_product(grid, i, j, k):\n",
    "    return prod([grid[i + o][j + o] for o in range(k)])\n",
    "\n",
    "def largest_diagonal_right_down_product(grid, n, k):\n",
    "    diagonal_right_down_products = [diagonal_right_down_product(grid, i, j, k) for j in range(n-k+1) for i in range(n-k+1)]\n",
    "    return max(diagonal_right_down_products)\n",
    "\n",
    "\n",
    "def diagonal_left_down_product(grid, i, j, k):\n",
    "    return prod([grid[i + o][j - o] for o in range(k)])    \n",
    "    \n",
    "def largest_diagonal_left_down_product(grid, n, k):\n",
    "    diagonal_left_down_products = [diagonal_left_down_product(grid, i, j, k) for j in range(k-1, n) for i in range(n-k+1)]\n",
    "    return max(diagonal_left_down_products)\n",
    "    \n",
    "def largest_product(grid, n, k):\n",
    "    return max(largest_horizontal_product(grid, n, k),\n",
    "        largest_vertical_product(grid, n, k),\n",
    "        largest_diagonal_right_down_product(grid, n ,k),\n",
    "        largest_diagonal_left_down_product(grid, n, k)\n",
    "       )"
   ]
  },
  {
   "cell_type": "code",
   "execution_count": 24,
   "metadata": {},
   "outputs": [
    {
     "data": {
      "text/plain": [
       "70600674"
      ]
     },
     "execution_count": 24,
     "metadata": {},
     "output_type": "execute_result"
    }
   ],
   "source": [
    "largest_product(grid_numbers, 20, 4)"
   ]
  },
  {
   "cell_type": "code",
   "execution_count": 25,
   "metadata": {},
   "outputs": [],
   "source": [
    "#12\n",
    "from functools import reduce\n",
    "def factors(n):    \n",
    "    return set(reduce(list.__add__, \n",
    "                ([i, n//i] for i in range(1, int(n**0.5) + 1) if n % i == 0)))\n",
    "\n",
    "def generate(n):\n",
    "    return (n+1)*(n) // 2"
   ]
  },
  {
   "cell_type": "code",
   "execution_count": 26,
   "metadata": {},
   "outputs": [],
   "source": [
    "def highly_divisible_triangular_number(n):\n",
    "    max_factors = []\n",
    "    i = 0\n",
    "    while not len(max_factors) > n:\n",
    "        i+=1\n",
    "        number = generate(i)\n",
    "        max_factors = factors(number)\n",
    "       \n",
    "    return generate(i)\n",
    "\n"
   ]
  },
  {
   "cell_type": "code",
   "execution_count": 27,
   "metadata": {},
   "outputs": [
    {
     "data": {
      "text/plain": [
       "76576500"
      ]
     },
     "execution_count": 27,
     "metadata": {},
     "output_type": "execute_result"
    }
   ],
   "source": [
    "highly_divisible_triangular_number(500)"
   ]
  },
  {
   "cell_type": "code",
   "execution_count": 28,
   "metadata": {},
   "outputs": [],
   "source": [
    "#13\n",
    "number = \"\"\"37107287533902102798797998220837590246510135740250\n",
    "46376937677490009712648124896970078050417018260538\n",
    "74324986199524741059474233309513058123726617309629\n",
    "91942213363574161572522430563301811072406154908250\n",
    "23067588207539346171171980310421047513778063246676\n",
    "89261670696623633820136378418383684178734361726757\n",
    "28112879812849979408065481931592621691275889832738\n",
    "44274228917432520321923589422876796487670272189318\n",
    "47451445736001306439091167216856844588711603153276\n",
    "70386486105843025439939619828917593665686757934951\n",
    "62176457141856560629502157223196586755079324193331\n",
    "64906352462741904929101432445813822663347944758178\n",
    "92575867718337217661963751590579239728245598838407\n",
    "58203565325359399008402633568948830189458628227828\n",
    "80181199384826282014278194139940567587151170094390\n",
    "35398664372827112653829987240784473053190104293586\n",
    "86515506006295864861532075273371959191420517255829\n",
    "71693888707715466499115593487603532921714970056938\n",
    "54370070576826684624621495650076471787294438377604\n",
    "53282654108756828443191190634694037855217779295145\n",
    "36123272525000296071075082563815656710885258350721\n",
    "45876576172410976447339110607218265236877223636045\n",
    "17423706905851860660448207621209813287860733969412\n",
    "81142660418086830619328460811191061556940512689692\n",
    "51934325451728388641918047049293215058642563049483\n",
    "62467221648435076201727918039944693004732956340691\n",
    "15732444386908125794514089057706229429197107928209\n",
    "55037687525678773091862540744969844508330393682126\n",
    "18336384825330154686196124348767681297534375946515\n",
    "80386287592878490201521685554828717201219257766954\n",
    "78182833757993103614740356856449095527097864797581\n",
    "16726320100436897842553539920931837441497806860984\n",
    "48403098129077791799088218795327364475675590848030\n",
    "87086987551392711854517078544161852424320693150332\n",
    "59959406895756536782107074926966537676326235447210\n",
    "69793950679652694742597709739166693763042633987085\n",
    "41052684708299085211399427365734116182760315001271\n",
    "65378607361501080857009149939512557028198746004375\n",
    "35829035317434717326932123578154982629742552737307\n",
    "94953759765105305946966067683156574377167401875275\n",
    "88902802571733229619176668713819931811048770190271\n",
    "25267680276078003013678680992525463401061632866526\n",
    "36270218540497705585629946580636237993140746255962\n",
    "24074486908231174977792365466257246923322810917141\n",
    "91430288197103288597806669760892938638285025333403\n",
    "34413065578016127815921815005561868836468420090470\n",
    "23053081172816430487623791969842487255036638784583\n",
    "11487696932154902810424020138335124462181441773470\n",
    "63783299490636259666498587618221225225512486764533\n",
    "67720186971698544312419572409913959008952310058822\n",
    "95548255300263520781532296796249481641953868218774\n",
    "76085327132285723110424803456124867697064507995236\n",
    "37774242535411291684276865538926205024910326572967\n",
    "23701913275725675285653248258265463092207058596522\n",
    "29798860272258331913126375147341994889534765745501\n",
    "18495701454879288984856827726077713721403798879715\n",
    "38298203783031473527721580348144513491373226651381\n",
    "34829543829199918180278916522431027392251122869539\n",
    "40957953066405232632538044100059654939159879593635\n",
    "29746152185502371307642255121183693803580388584903\n",
    "41698116222072977186158236678424689157993532961922\n",
    "62467957194401269043877107275048102390895523597457\n",
    "23189706772547915061505504953922979530901129967519\n",
    "86188088225875314529584099251203829009407770775672\n",
    "11306739708304724483816533873502340845647058077308\n",
    "82959174767140363198008187129011875491310547126581\n",
    "97623331044818386269515456334926366572897563400500\n",
    "42846280183517070527831839425882145521227251250327\n",
    "55121603546981200581762165212827652751691296897789\n",
    "32238195734329339946437501907836945765883352399886\n",
    "75506164965184775180738168837861091527357929701337\n",
    "62177842752192623401942399639168044983993173312731\n",
    "32924185707147349566916674687634660915035914677504\n",
    "99518671430235219628894890102423325116913619626622\n",
    "73267460800591547471830798392868535206946944540724\n",
    "76841822524674417161514036427982273348055556214818\n",
    "97142617910342598647204516893989422179826088076852\n",
    "87783646182799346313767754307809363333018982642090\n",
    "10848802521674670883215120185883543223812876952786\n",
    "71329612474782464538636993009049310363619763878039\n",
    "62184073572399794223406235393808339651327408011116\n",
    "66627891981488087797941876876144230030984490851411\n",
    "60661826293682836764744779239180335110989069790714\n",
    "85786944089552990653640447425576083659976645795096\n",
    "66024396409905389607120198219976047599490197230297\n",
    "64913982680032973156037120041377903785566085089252\n",
    "16730939319872750275468906903707539413042652315011\n",
    "94809377245048795150954100921645863754710598436791\n",
    "78639167021187492431995700641917969777599028300699\n",
    "15368713711936614952811305876380278410754449733078\n",
    "40789923115535562561142322423255033685442488917353\n",
    "44889911501440648020369068063960672322193204149535\n",
    "41503128880339536053299340368006977710650566631954\n",
    "81234880673210146739058568557934581403627822703280\n",
    "82616570773948327592232845941706525094512325230608\n",
    "22918802058777319719839450180888072429661980811197\n",
    "77158542502016545090413245809786882778948721859617\n",
    "72107838435069186155435662884062257473692284509516\n",
    "20849603980134001723930671666823555245252804609722\n",
    "53503534226472524250874054075591789781264330331690\"\"\""
   ]
  },
  {
   "cell_type": "code",
   "execution_count": 29,
   "metadata": {},
   "outputs": [],
   "source": [
    "def first_ten_digit_of_sum_of_numbers(grid):\n",
    "    return str(sum([int(num) for num in grid.split(\"\\n\")]))[:10]"
   ]
  },
  {
   "cell_type": "code",
   "execution_count": 30,
   "metadata": {},
   "outputs": [
    {
     "data": {
      "text/plain": [
       "'5537376230'"
      ]
     },
     "execution_count": 30,
     "metadata": {},
     "output_type": "execute_result"
    }
   ],
   "source": [
    "first_ten_digit_of_sum_of_numbers(number)"
   ]
  },
  {
   "cell_type": "code",
   "execution_count": 31,
   "metadata": {},
   "outputs": [
    {
     "name": "stdout",
     "output_type": "stream",
     "text": [
      "837799\n"
     ]
    }
   ],
   "source": [
    "#14\n",
    "class collatz:\n",
    "    def __init__(self):\n",
    "        self.collatz_dictionary = {}\n",
    "\n",
    "    def generate(self, current):\n",
    "        sequence = []\n",
    "        while current != 1 and current not in self.collatz_dictionary.keys():\n",
    "            sequence.append(current)\n",
    "            current = current // 2 if current % 2 == 0 else current * 3 + 1\n",
    "        sequence.append(current)\n",
    "        return sequence\n",
    "\n",
    "    def store_sequence(self, sequence):\n",
    "        if sequence[-1] == 1:\n",
    "            for i in range(len(sequence)):\n",
    "                self.collatz_dictionary[sequence[i]] = len(sequence) - i\n",
    "        else:\n",
    "            for i in range(len(sequence) - 1, -1, -1):\n",
    "                if sequence[i] not in self.collatz_dictionary.keys():\n",
    "                    # chcem ho ulozit do slovnika, mal by som vediet vypocitat dlzku sekvencie na zaklade slovnika,\n",
    "                    # a na zaklade pozicie cisla 1\n",
    "                    self.collatz_dictionary[sequence[i]] = self.collatz_dictionary[sequence[i + 1]] + 1\n",
    "\n",
    "    def store_sequences_lesser_than(self, n):\n",
    "        for i in range(1, n):\n",
    "            # print(f\"Storing sequences lesser than {i}\")\n",
    "            seq = self.generate(i)\n",
    "            self.store_sequence(seq)\n",
    "\n",
    "    def clear_dict(self):\n",
    "        self.collatz_dictionary = {}\n",
    "\n",
    "    def return_current_longest(self):\n",
    "        return max(self.collatz_dictionary, key=self.collatz_dictionary.get)\n",
    "\n",
    "\n",
    "# Add elements nor present to collatz dictionary\n",
    "\n",
    "def main():\n",
    "    col = collatz()\n",
    "    col.store_sequences_lesser_than(1_000_000)\n",
    "    print(col.return_current_longest())\n",
    "\n",
    "\n",
    "if __name__ == '__main__':\n",
    "    main()\n"
   ]
  },
  {
   "cell_type": "code",
   "execution_count": 32,
   "metadata": {},
   "outputs": [
    {
     "data": {
      "text/plain": [
       "137846528820"
      ]
     },
     "execution_count": 32,
     "metadata": {},
     "output_type": "execute_result"
    }
   ],
   "source": [
    "#15\n",
    "import math\n",
    "\n",
    "# coding as d and r\n",
    "\n",
    "def grid(x,y):\n",
    "    return math.factorial(x + y) // (math.factorial(x) * math.factorial(y))\n",
    "grid(20, 20)"
   ]
  }
 ],
 "metadata": {
  "kernelspec": {
   "display_name": "Python 3",
   "language": "python",
   "name": "python3"
  },
  "language_info": {
   "codemirror_mode": {
    "name": "ipython",
    "version": 3
   },
   "file_extension": ".py",
   "mimetype": "text/x-python",
   "name": "python",
   "nbconvert_exporter": "python",
   "pygments_lexer": "ipython3",
   "version": "3.6.8"
  }
 },
 "nbformat": 4,
 "nbformat_minor": 2
}
