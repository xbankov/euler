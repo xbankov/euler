{
 "cells": [
  {
   "cell_type": "code",
   "execution_count": 4,
   "metadata": {},
   "outputs": [
    {
     "data": {
      "text/plain": [
       "233168"
      ]
     },
     "execution_count": 4,
     "metadata": {},
     "output_type": "execute_result"
    }
   ],
   "source": [
    "#1\n",
    "sum([i for i in range(1000) if i %3 ==0 or i % 5 == 0])"
   ]
  },
  {
   "cell_type": "code",
   "execution_count": 5,
   "metadata": {},
   "outputs": [
    {
     "data": {
      "text/plain": [
       "4613732"
      ]
     },
     "execution_count": 5,
     "metadata": {},
     "output_type": "execute_result"
    }
   ],
   "source": [
    "#2\n",
    "second_last, last = 1, 2\n",
    "sigma = 2\n",
    "\n",
    "while last < 4_000_000:\n",
    "    new = last + second_last\n",
    "    second_last = last\n",
    "    last = new\n",
    "    if new % 2 == 0:\n",
    "        sigma += new\n",
    "sigma\n"
   ]
  },
  {
   "cell_type": "code",
   "execution_count": 6,
   "metadata": {},
   "outputs": [],
   "source": [
    "#3\n",
    "def isprime(n):\n",
    "    \"\"\"Returns True if n is prime.\"\"\"\n",
    "    if n == 2:\n",
    "        return True\n",
    "    if n == 3:\n",
    "        return True\n",
    "    if n % 2 == 0:\n",
    "        return False\n",
    "    if n % 3 == 0:\n",
    "        return False\n",
    "    \n",
    "    i = 5\n",
    "    w = 2\n",
    "    while i * i <= n:\n",
    "        if n % i == 0:\n",
    "            return False\n",
    "        i += w\n",
    "        w = 6 - w\n",
    "    return True"
   ]
  },
  {
   "cell_type": "code",
   "execution_count": 7,
   "metadata": {},
   "outputs": [
    {
     "name": "stdout",
     "output_type": "stream",
     "text": [
      "8462696833\n",
      "10086647\n",
      "6857\n"
     ]
    }
   ],
   "source": [
    "from math import sqrt\n",
    "number = 600_851_475_143\n",
    "\n",
    "\n",
    "for i in range(1, int(sqrt(number))):\n",
    "    if number % i == 0 and i not in [1, number]:\n",
    "        number = number // i\n",
    "        print(number)"
   ]
  },
  {
   "cell_type": "code",
   "execution_count": 8,
   "metadata": {},
   "outputs": [],
   "source": [
    "#4\n",
    "def is_palindrome(string):\n",
    "    if not string:\n",
    "        return True\n",
    "    if string[0] != string[-1]:\n",
    "        return False\n",
    "    return is_palindrome(string[1:-1])"
   ]
  },
  {
   "cell_type": "code",
   "execution_count": 9,
   "metadata": {},
   "outputs": [
    {
     "data": {
      "text/plain": [
       "906609"
      ]
     },
     "execution_count": 9,
     "metadata": {},
     "output_type": "execute_result"
    }
   ],
   "source": [
    "products = []\n",
    "for i in range(900,1000):\n",
    "    for j in range(900,1000):\n",
    "        products.append(i*j)\n",
    "products\n",
    "\n",
    "\n",
    "max([product for product in products if is_palindrome(str(product))])"
   ]
  },
  {
   "cell_type": "code",
   "execution_count": 10,
   "metadata": {},
   "outputs": [
    {
     "data": {
      "text/plain": [
       "232792560"
      ]
     },
     "execution_count": 10,
     "metadata": {},
     "output_type": "execute_result"
    }
   ],
   "source": [
    "#5\n",
    "from math import gcd\n",
    "def lcm(a, b):\n",
    "    return (a*b) // gcd(a,b)\n",
    "\n",
    "temp_lcm = 1\n",
    "for i in range(1, 20):\n",
    "    temp_lcm = lcm(i, temp_lcm)\n",
    "\n",
    "temp_lcm\n",
    "        \n"
   ]
  },
  {
   "cell_type": "code",
   "execution_count": 11,
   "metadata": {},
   "outputs": [],
   "source": [
    "#6\n",
    "def sum_sq_diff(n):\n",
    "    sum_of_squares = sum([i**2 for i in range(n + 1)]) \n",
    "    square_of_sum = sum([i for i in range(n + 1)]) ** 2\n",
    "    return square_of_sum - sum_of_squares"
   ]
  },
  {
   "cell_type": "code",
   "execution_count": 12,
   "metadata": {},
   "outputs": [
    {
     "data": {
      "text/plain": [
       "25164150"
      ]
     },
     "execution_count": 12,
     "metadata": {},
     "output_type": "execute_result"
    }
   ],
   "source": [
    "sum_sq_diff(10)\n",
    "sum_sq_diff(100)"
   ]
  },
  {
   "cell_type": "code",
   "execution_count": 13,
   "metadata": {},
   "outputs": [],
   "source": [
    "#7\n",
    "def nth_prime(n):\n",
    "    primes = 0\n",
    "    number = 0\n",
    "    while primes != n+1:\n",
    "        number += 1\n",
    "        if isprime(number):\n",
    "            primes +=1\n",
    "        \n",
    "    return number\n",
    "        "
   ]
  },
  {
   "cell_type": "code",
   "execution_count": 14,
   "metadata": {},
   "outputs": [
    {
     "data": {
      "text/plain": [
       "104743"
      ]
     },
     "execution_count": 14,
     "metadata": {},
     "output_type": "execute_result"
    }
   ],
   "source": [
    "nth_prime(10001)"
   ]
  },
  {
   "cell_type": "code",
   "execution_count": 15,
   "metadata": {},
   "outputs": [],
   "source": [
    "number = 7316717653133062491922511967442657474235534919493496983520312774506326239578318016984801869478851843858615607891129494954595017379583319528532088055111254069874715852386305071569329096329522744304355766896648950445244523161731856403098711121722383113622298934233803081353362766142828064444866452387493035890729629049156044077239071381051585930796086670172427121883998797908792274921901699720888093776657273330010533678812202354218097512545405947522435258490771167055601360483958644670632441572215539753697817977846174064955149290862569321978468622482839722413756570560574902614079729686524145351004748216637048440319989000889524345065854122758866688116427171479924442928230863465674813919123162824586178664583591245665294765456828489128831426076900422421902267105562632111110937054421750694165896040807198403850962455444362981230987879927244284909188845801561660979191338754992005240636899125607176060588611646710940507754100225698315520005593572972571636269561882670428252483600823257530420752963450"
   ]
  },
  {
   "cell_type": "code",
   "execution_count": 16,
   "metadata": {},
   "outputs": [],
   "source": [
    "#8\n",
    "def product_string(s_number):\n",
    "    product = 1\n",
    "    for number in s_number:\n",
    "        product *= int(number)\n",
    "    return product"
   ]
  },
  {
   "cell_type": "code",
   "execution_count": 17,
   "metadata": {},
   "outputs": [],
   "source": [
    "def largest_product_in_series(k, series):\n",
    "    s_number = str(series)\n",
    "    n = len(s_number)\n",
    "    return max([product_string(s_number[i: i + k]) for i in range(n - k + 1)])"
   ]
  },
  {
   "cell_type": "code",
   "execution_count": 18,
   "metadata": {},
   "outputs": [
    {
     "data": {
      "text/plain": [
       "23514624000"
      ]
     },
     "execution_count": 18,
     "metadata": {},
     "output_type": "execute_result"
    }
   ],
   "source": [
    "largest_product_in_series(13, number)"
   ]
  },
  {
   "cell_type": "code",
   "execution_count": 19,
   "metadata": {},
   "outputs": [],
   "source": [
    "#9\n",
    "def pythagoreanTriplets(limits) : \n",
    "    triplets = []\n",
    "    c, m = 0, 2\n",
    "  \n",
    "    # Limiting c would limit  \n",
    "    # all a, b and c \n",
    "    while c < limits : \n",
    "          \n",
    "        # Now loop on n from 1 to m-1 \n",
    "        for n in range(1, m) : \n",
    "            a = m * m - n * n \n",
    "            b = 2 * m * n \n",
    "            c = m * m + n * n \n",
    "  \n",
    "            # if c is greater than \n",
    "            # limit then break it \n",
    "            if c > limits : \n",
    "                break\n",
    "  \n",
    "            triplets.append([a, b, c])\n",
    "  \n",
    "        m = m + 1\n",
    "    return triplets\n",
    "\n",
    "def product_list(numbers):\n",
    "    return []"
   ]
  },
  {
   "cell_type": "code",
   "execution_count": 20,
   "metadata": {},
   "outputs": [],
   "source": [
    "from numpy import prod\n",
    "\n",
    "def product_of_pyth_triplet_that_is_equal_to(number):\n",
    "    triplets = pythagoreanTriplets(number)\n",
    "    for triplet in triplets:\n",
    "        if sum(triplet) == number:\n",
    "            print(triplet)\n",
    "            return prod(triplet)\n",
    "            \n",
    "        "
   ]
  },
  {
   "cell_type": "code",
   "execution_count": 21,
   "metadata": {},
   "outputs": [
    {
     "name": "stdout",
     "output_type": "stream",
     "text": [
      "[375, 200, 425]\n"
     ]
    },
    {
     "data": {
      "text/plain": [
       "31875000"
      ]
     },
     "execution_count": 21,
     "metadata": {},
     "output_type": "execute_result"
    }
   ],
   "source": [
    "product_of_pyth_triplet_that_is_equal_to(1000)"
   ]
  },
  {
   "cell_type": "code",
   "execution_count": 22,
   "metadata": {},
   "outputs": [],
   "source": [
    "#10\n",
    "def isprime_without_one(n):\n",
    "    \"\"\"Returns True if n is prime.\"\"\"\n",
    "    if n == 1:\n",
    "        return False\n",
    "    if n == 2:\n",
    "        return True\n",
    "    if n == 3:\n",
    "        return True\n",
    "    if n % 2 == 0:\n",
    "        return False\n",
    "    if n % 3 == 0:\n",
    "        return False\n",
    "    \n",
    "    i = 5\n",
    "    w = 2\n",
    "    while i * i <= n:\n",
    "        if n % i == 0:\n",
    "            return False\n",
    "        i += w\n",
    "        w = 6 - w\n",
    "    return True\n",
    "\n",
    "def sum_of_primes_under(n):\n",
    "    suma = 0\n",
    "    for i in range(n):\n",
    "        if isprime_without_one(i):\n",
    "            suma += i\n",
    "    return suma"
   ]
  },
  {
   "cell_type": "code",
   "execution_count": 23,
   "metadata": {},
   "outputs": [
    {
     "data": {
      "text/plain": [
       "142913828922"
      ]
     },
     "execution_count": 23,
     "metadata": {},
     "output_type": "execute_result"
    }
   ],
   "source": [
    "sum_of_primes_under(2_000_000)"
   ]
  },
  {
   "cell_type": "code",
   "execution_count": 24,
   "metadata": {},
   "outputs": [],
   "source": [
    "#11\n",
    "grid = \"\"\"08 02 22 97 38 15 00 40 00 75 04 05 07 78 52 12 50 77 91 08\n",
    "49 49 99 40 17 81 18 57 60 87 17 40 98 43 69 48 04 56 62 00\n",
    "81 49 31 73 55 79 14 29 93 71 40 67 53 88 30 03 49 13 36 65\n",
    "52 70 95 23 04 60 11 42 69 24 68 56 01 32 56 71 37 02 36 91\n",
    "22 31 16 71 51 67 63 89 41 92 36 54 22 40 40 28 66 33 13 80\n",
    "24 47 32 60 99 03 45 02 44 75 33 53 78 36 84 20 35 17 12 50\n",
    "32 98 81 28 64 23 67 10 26 38 40 67 59 54 70 66 18 38 64 70\n",
    "67 26 20 68 02 62 12 20 95 63 94 39 63 08 40 91 66 49 94 21\n",
    "24 55 58 05 66 73 99 26 97 17 78 78 96 83 14 88 34 89 63 72\n",
    "21 36 23 09 75 00 76 44 20 45 35 14 00 61 33 97 34 31 33 95\n",
    "78 17 53 28 22 75 31 67 15 94 03 80 04 62 16 14 09 53 56 92\n",
    "16 39 05 42 96 35 31 47 55 58 88 24 00 17 54 24 36 29 85 57\n",
    "86 56 00 48 35 71 89 07 05 44 44 37 44 60 21 58 51 54 17 58\n",
    "19 80 81 68 05 94 47 69 28 73 92 13 86 52 17 77 04 89 55 40\n",
    "04 52 08 83 97 35 99 16 07 97 57 32 16 26 26 79 33 27 98 66\n",
    "88 36 68 87 57 62 20 72 03 46 33 67 46 55 12 32 63 93 53 69\n",
    "04 42 16 73 38 25 39 11 24 94 72 18 08 46 29 32 40 62 76 36\n",
    "20 69 36 41 72 30 23 88 34 62 99 69 82 67 59 85 74 04 36 16\n",
    "20 73 35 29 78 31 90 01 74 31 49 71 48 86 81 16 23 57 05 54\n",
    "01 70 54 71 83 51 54 69 16 92 33 48 61 43 52 01 89 19 67 48\"\"\"\n",
    "\n",
    "grid\n",
    "\n",
    "def largest_product_in_grid(grid):\n",
    "    pass"
   ]
  },
  {
   "cell_type": "code",
   "execution_count": 25,
   "metadata": {},
   "outputs": [],
   "source": [
    "grid_ = [row for row in grid.split('\\n')]\n",
    "grid_ = [row.split(' ') for row in grid_]\n",
    "grid_numbers = [[int(number) for number in row ] for row in grid_]"
   ]
  },
  {
   "cell_type": "code",
   "execution_count": 26,
   "metadata": {},
   "outputs": [],
   "source": [
    "from numpy import prod\n",
    "def horizontal_product(grid, i, j, k):\n",
    "    return prod([grid[i][j + o] for o in range(k)])\n",
    "\n",
    "def largest_horizontal_product(grid, n, k):\n",
    "    horizontal_products = [horizontal_product(grid, i , j, k) for j in range(n - k + 1) for i in range(n)]\n",
    "    return max(horizontal_products)\n",
    "\n",
    "\n",
    "def vertical_product(grid, i, j, k):\n",
    "    return prod([grid[i + o][j] for o in range(k)])\n",
    "\n",
    "def largest_vertical_product(grid, n, k):\n",
    "    vertical_products = [vertical_product(grid, i , j, k) for j in range(n) for i in range(n - k + 1)]\n",
    "    return max(vertical_products)\n",
    "\n",
    "\n",
    "def diagonal_right_down_product(grid, i, j, k):\n",
    "    return prod([grid[i + o][j + o] for o in range(k)])\n",
    "\n",
    "def largest_diagonal_right_down_product(grid, n, k):\n",
    "    diagonal_right_down_products = [diagonal_right_down_product(grid, i, j, k) for j in range(n-k+1) for i in range(n-k+1)]\n",
    "    return max(diagonal_right_down_products)\n",
    "\n",
    "\n",
    "def diagonal_left_down_product(grid, i, j, k):\n",
    "    return prod([grid[i + o][j - o] for o in range(k)])    \n",
    "    \n",
    "def largest_diagonal_left_down_product(grid, n, k):\n",
    "    diagonal_left_down_products = [diagonal_left_down_product(grid, i, j, k) for j in range(k-1, n) for i in range(n-k+1)]\n",
    "    return max(diagonal_left_down_products)\n",
    "    \n",
    "def largest_product(grid, n, k):\n",
    "    return max(largest_horizontal_product(grid, n, k),\n",
    "        largest_vertical_product(grid, n, k),\n",
    "        largest_diagonal_right_down_product(grid, n ,k),\n",
    "        largest_diagonal_left_down_product(grid, n, k)\n",
    "       )"
   ]
  },
  {
   "cell_type": "code",
   "execution_count": 27,
   "metadata": {},
   "outputs": [
    {
     "data": {
      "text/plain": [
       "70600674"
      ]
     },
     "execution_count": 27,
     "metadata": {},
     "output_type": "execute_result"
    }
   ],
   "source": [
    "largest_product(grid_numbers, 20, 4)"
   ]
  },
  {
   "cell_type": "code",
   "execution_count": 1,
   "metadata": {},
   "outputs": [],
   "source": [
    "#12\n",
    "def factors(i):\n",
    "    return {i for i in range(1, x + 1) if x & i == 0}\n",
    "\n",
    "def generate_triangular_number():\n",
    "    i = 1\n",
    "    suma = 0\n",
    "    while True:\n",
    "        suma += i\n",
    "        yield suma\n",
    "        i += i\n",
    "\n",
    "def highly_divisible_triangular_number(n):\n",
    "    for number in generate_triangular_number:\n",
    "        if len(factors(i)) > 500:\n",
    "            print(i)\n"
   ]
  },
  {
   "cell_type": "code",
   "execution_count": null,
   "metadata": {},
   "outputs": [],
   "source": [
    "for i in range(2)L:"
   ]
  }
 ],
 "metadata": {
  "kernelspec": {
   "display_name": "Python 3",
   "language": "python",
   "name": "python3"
  },
  "language_info": {
   "codemirror_mode": {
    "name": "ipython",
    "version": 3
   },
   "file_extension": ".py",
   "mimetype": "text/x-python",
   "name": "python",
   "nbconvert_exporter": "python",
   "pygments_lexer": "ipython3",
   "version": "3.7.1"
  }
 },
 "nbformat": 4,
 "nbformat_minor": 2
}
