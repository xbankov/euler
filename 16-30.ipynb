{
 "cells": [
  {
   "cell_type": "code",
   "execution_count": null,
   "metadata": {},
   "outputs": [],
   "source": [
    "#16-30"
   ]
  },
  {
   "cell_type": "code",
   "execution_count": null,
   "metadata": {},
   "outputs": [],
   "source": [
    "#16\n",
    "def calculate(n, power): \n",
    "    return sum([int(i) for i in str(pow(n, power))]) "
   ]
  },
  {
   "cell_type": "code",
   "execution_count": null,
   "metadata": {},
   "outputs": [],
   "source": [
    "calculate(2,1000)"
   ]
  },
  {
   "cell_type": "code",
   "execution_count": null,
   "metadata": {},
   "outputs": [],
   "source": [
    "#17\n",
    "ones = ['one', 'two','three', 'four', 'five', 'six', 'seven', 'eight', 'nine']\n",
    "ones_numbers = [i for i in range(1, 10)]\n",
    "ones_dic = dict(zip(ones_numbers, ones))\n",
    "\n",
    "tenths = ['ten', 'twenty', 'thirty', 'forty', 'fifty', 'sixty', 'seventy', 'eighty', 'ninety']\n",
    "tenths_numbers = [i * 10 for i in range(1, 10)]\n",
    "tenths_dic = dict(zip(tenths_numbers, tenths))\n",
    "\n",
    "special = ['eleven', 'twelve', 'thirteen', 'fourteen', 'fifteen', 'sixteen', 'seventeen', 'eighteen', 'nineteen']\n",
    "special_numbers = [i + 10 for i in range(1, 10)]\n",
    "special_dic = dict(zip(special_numbers, special))"
   ]
  },
  {
   "cell_type": "code",
   "execution_count": null,
   "metadata": {},
   "outputs": [],
   "source": [
    "def transform_ones(number):\n",
    "    return ones_dic[number]\n",
    "\n",
    "def transform_special(number):\n",
    "    return special_dic[number]\n",
    "\n",
    "def transform_tenths(number):\n",
    "    if number < 10:\n",
    "        return transform_ones(number)\n",
    "    if number < 20 and number % 10 != 0:\n",
    "        return transform_special(number)\n",
    "    \n",
    "    if number in tenths_dic.keys():\n",
    "        return tenths_dic[number]\n",
    "    \n",
    "    return f\"{tenths_dic[number - number % 10]}{ones_dic[number % 10]}\"\n",
    "\n",
    "def transform_hundreds(number):\n",
    "    if number % 100 == 0:\n",
    "        hundreds = transform_ones(int(str(number)[0]))\n",
    "        return f\"{hundreds} hundred\"\n",
    "    \n",
    "    tenths = transform_tenths(int(str(number)[1:]))\n",
    "    hundreds = transform_ones(int(str(number)[0]))\n",
    "    return f\"{hundreds} hundred and {tenths}\"\n",
    "\n",
    "def transform(number):\n",
    "    if number < 10:\n",
    "        return transform_ones(number)\n",
    "    \n",
    "    elif number < 100:\n",
    "        return transform_tenths(number)\n",
    "        \n",
    "    elif number < 1000:\n",
    "        return transform_hundreds(number)\n",
    "    \n",
    "    else:\n",
    "        return 'one thousand'\n",
    "\n"
   ]
  },
  {
   "cell_type": "code",
   "execution_count": null,
   "metadata": {},
   "outputs": [],
   "source": [
    "def number_letter_counts(start, to):\n",
    "    return sum([len(transform(i).replace(' ', '')) for i in range(start, to + 1)])"
   ]
  },
  {
   "cell_type": "code",
   "execution_count": null,
   "metadata": {},
   "outputs": [],
   "source": [
    "number_letter_counts(1, 1000)\n",
    "\n",
    "    "
   ]
  },
  {
   "cell_type": "code",
   "execution_count": null,
   "metadata": {},
   "outputs": [],
   "source": [
    "#18 and 67\n"
   ]
  },
  {
   "cell_type": "code",
   "execution_count": null,
   "metadata": {
    "scrolled": true
   },
   "outputs": [],
   "source": [
    "#19\n",
    "import math\n",
    "sum(int(i) for i in str(math.factorial(100)))\n"
   ]
  },
  {
   "cell_type": "code",
   "execution_count": null,
   "metadata": {},
   "outputs": [],
   "source": [
    "#20"
   ]
  },
  {
   "cell_type": "code",
   "execution_count": null,
   "metadata": {},
   "outputs": [],
   "source": [
    "#21\n",
    "from functools import reduce\n",
    "def factors(n):    \n",
    "    return set(reduce(list.__add__, \n",
    "                ([i, n//i] for i in range(1, int(n**0.5) + 1) if (n % i == 0))))"
   ]
  },
  {
   "cell_type": "code",
   "execution_count": null,
   "metadata": {},
   "outputs": [],
   "source": [
    "def sum_proper_factors(n):\n",
    "    return sum(factors(n) - {n})"
   ]
  },
  {
   "cell_type": "code",
   "execution_count": null,
   "metadata": {},
   "outputs": [],
   "source": [
    "def find_amicable_numbers(n):\n",
    "    numbers = set()\n",
    "    for x in range(4, n):\n",
    "        if sum_proper_factors(sum_proper_factors(x)) == x and sum_proper_factors(x) != x:\n",
    "            numbers.add(x)\n",
    "            numbers.add(sum_proper_factors(x))\n",
    "    return numbers"
   ]
  },
  {
   "cell_type": "code",
   "execution_count": null,
   "metadata": {},
   "outputs": [],
   "source": [
    "amicable_numbers = find_amicable_numbers(10000)\n",
    "sum(amicable_numbers)"
   ]
  },
  {
   "cell_type": "code",
   "execution_count": 210,
   "metadata": {},
   "outputs": [],
   "source": [
    "#22\n",
    "def get_alphabetical_score(name):\n",
    "    return sum(ord(char) - 64 for char in name)\n",
    "\n",
    "with open('p022_names.txt','r') as file:\n",
    "    lines = file.readline()"
   ]
  },
  {
   "cell_type": "code",
   "execution_count": 211,
   "metadata": {},
   "outputs": [],
   "source": [
    "names = [name[1:-1] for name in lines.split(',')]\n",
    "sorted_names = sorted(names)\n"
   ]
  },
  {
   "cell_type": "code",
   "execution_count": 227,
   "metadata": {},
   "outputs": [],
   "source": [
    "def sum_of_scores(names):\n",
    "    return sum(i * get_alphabetical_score(name) for i, name in enumerate(names, start = 1))\n",
    "        \n",
    "        "
   ]
  },
  {
   "cell_type": "code",
   "execution_count": 228,
   "metadata": {},
   "outputs": [
    {
     "data": {
      "text/plain": [
       "871198282"
      ]
     },
     "execution_count": 228,
     "metadata": {},
     "output_type": "execute_result"
    }
   ],
   "source": [
    "sum_of_scores(sorted_names)"
   ]
  },
  {
   "cell_type": "code",
   "execution_count": 268,
   "metadata": {},
   "outputs": [],
   "source": [
    "#23\n",
    "def find_all_abundant_numbers(n):\n",
    "    return {i for i in range(1, n) if sum_proper_factors(i) > i}"
   ]
  },
  {
   "cell_type": "code",
   "execution_count": 288,
   "metadata": {},
   "outputs": [],
   "source": [
    "import itertools\n",
    "def non_abundant_sums():\n",
    "    ab_numbers = find_all_abundant_numbers(28123)\n",
    "    abundant_sums = {sum(pair) for pair in itertools.combinations_with_replacement(ab_numbers, 2)}\n",
    "    all_numbers = {i for i in range(1, 28123)}\n",
    "    return set(all_numbers - abundant_sums)\n"
   ]
  },
  {
   "cell_type": "code",
   "execution_count": 290,
   "metadata": {},
   "outputs": [
    {
     "data": {
      "text/plain": [
       "4179871"
      ]
     },
     "execution_count": 290,
     "metadata": {},
     "output_type": "execute_result"
    }
   ],
   "source": [
    "sum(non_abundant_sums())"
   ]
  },
  {
   "cell_type": "code",
   "execution_count": 296,
   "metadata": {},
   "outputs": [],
   "source": [
    "#24\n",
    "test = [0,1,2]\n",
    "numbers = [0,1,2,3,4,5,6,7,8,9]"
   ]
  },
  {
   "cell_type": "code",
   "execution_count": 300,
   "metadata": {},
   "outputs": [
    {
     "name": "stdout",
     "output_type": "stream",
     "text": [
      "(2, 7, 8, 3, 9, 1, 5, 4, 6, 0)\n",
      "(2, 7, 8, 3, 9, 1, 5, 6, 0, 4)\n"
     ]
    }
   ],
   "source": [
    "import itertools\n",
    "permutations = list(itertools.permutations(numbers))\n",
    "print(permutations[999_999])"
   ]
  },
  {
   "cell_type": "code",
   "execution_count": 253,
   "metadata": {},
   "outputs": [],
   "source": [
    "#25\n",
    "def fibonacci_first_with_n_digits(n):\n",
    "    second_last, last = 1, 2\n",
    "    i = 3\n",
    "    while len(str(last)) < n:\n",
    "        second_last, last = last, last + second_last\n",
    "        i += 1\n",
    "    return i, last\n",
    "    \n",
    "\n"
   ]
  },
  {
   "cell_type": "code",
   "execution_count": 256,
   "metadata": {},
   "outputs": [
    {
     "data": {
      "text/plain": [
       "(4782,\n",
       " 1070066266382758936764980584457396885083683896632151665013235203375314520604694040621889147582489792657804694888177591957484336466672569959512996030461262748092482186144069433051234774442750273781753087579391666192149259186759553966422837148943113074699503439547001985432609723067290192870526447243726117715821825548491120525013201478612965931381792235559657452039506137551467837543229119602129934048260706175397706847068202895486902666185435124521900369480641357447470911707619766945691070098024393439617474103736912503231365532164773697023167755051595173518460579954919410967778373229665796581646513903488154256310184224190259846088000110186255550245493937113651657039447629584714548523425950428582425306083544435428212611008992863795048006894330309773217834864543113205765659868456288616808718693835297350643986297640660000723562917905207051164077614812491885830945940566688339109350944456576357666151619317753792891661581327159616877487983821820492520348473874384736771934512787029218636250627816)"
      ]
     },
     "execution_count": 256,
     "metadata": {},
     "output_type": "execute_result"
    }
   ],
   "source": [
    "fibonacci_first_with_n_digits(1000)"
   ]
  },
  {
   "cell_type": "code",
   "execution_count": 234,
   "metadata": {},
   "outputs": [],
   "source": []
  },
  {
   "cell_type": "code",
   "execution_count": 235,
   "metadata": {},
   "outputs": [],
   "source": []
  },
  {
   "cell_type": "code",
   "execution_count": 236,
   "metadata": {},
   "outputs": [
    {
     "data": {
      "text/plain": [
       "8"
      ]
     },
     "execution_count": 236,
     "metadata": {},
     "output_type": "execute_result"
    }
   ],
   "source": []
  },
  {
   "cell_type": "code",
   "execution_count": 237,
   "metadata": {},
   "outputs": [
    {
     "data": {
      "text/plain": [
       "13"
      ]
     },
     "execution_count": 237,
     "metadata": {},
     "output_type": "execute_result"
    }
   ],
   "source": []
  },
  {
   "cell_type": "code",
   "execution_count": null,
   "metadata": {},
   "outputs": [],
   "source": []
  }
 ],
 "metadata": {
  "kernelspec": {
   "display_name": "Python 3",
   "language": "python",
   "name": "python3"
  },
  "language_info": {
   "codemirror_mode": {
    "name": "ipython",
    "version": 3
   },
   "file_extension": ".py",
   "mimetype": "text/x-python",
   "name": "python",
   "nbconvert_exporter": "python",
   "pygments_lexer": "ipython3",
   "version": "3.6.8"
  }
 },
 "nbformat": 4,
 "nbformat_minor": 2
}
